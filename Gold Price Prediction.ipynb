{
 "cells": [
  {
   "cell_type": "code",
   "execution_count": 26,
   "id": "a4bdf40c-f661-4a83-9950-9bd1e020d9e5",
   "metadata": {},
   "outputs": [],
   "source": [
    "import matplotlib.pyplot as plt\n",
    "import numpy as np\n",
    "import pandas as pd\n",
    "import seaborn as sns \n",
    "import sklearn.datasets\n",
    "from sklearn.model_selection import train_test_split\n",
    "from sklearn.ensemble import RandomForestRegressor\n",
    "from sklearn import metrics"
   ]
  },
  {
   "cell_type": "code",
   "execution_count": 3,
   "id": "b8b39397-928a-48cd-9e7d-388491158db1",
   "metadata": {},
   "outputs": [],
   "source": [
    "#loading the csv data to pandas dataframe \n",
    "gold_data = pd.read_csv(\"gld_price_data2.csv\")"
   ]
  },
  {
   "cell_type": "code",
   "execution_count": 4,
   "id": "8f420e4d-9198-4c5b-80bd-bfd022102f1a",
   "metadata": {},
   "outputs": [
    {
     "data": {
      "text/html": [
       "<div>\n",
       "<style scoped>\n",
       "    .dataframe tbody tr th:only-of-type {\n",
       "        vertical-align: middle;\n",
       "    }\n",
       "\n",
       "    .dataframe tbody tr th {\n",
       "        vertical-align: top;\n",
       "    }\n",
       "\n",
       "    .dataframe thead th {\n",
       "        text-align: right;\n",
       "    }\n",
       "</style>\n",
       "<table border=\"1\" class=\"dataframe\">\n",
       "  <thead>\n",
       "    <tr style=\"text-align: right;\">\n",
       "      <th></th>\n",
       "      <th>Date</th>\n",
       "      <th>SPX</th>\n",
       "      <th>GLD</th>\n",
       "      <th>USO</th>\n",
       "      <th>SLV</th>\n",
       "      <th>EUR/USD</th>\n",
       "    </tr>\n",
       "  </thead>\n",
       "  <tbody>\n",
       "    <tr>\n",
       "      <th>0</th>\n",
       "      <td>1/4/2008</td>\n",
       "      <td>1411.630005</td>\n",
       "      <td>85.129997</td>\n",
       "      <td>77.309998</td>\n",
       "      <td>15.167000</td>\n",
       "      <td>1.475492</td>\n",
       "    </tr>\n",
       "    <tr>\n",
       "      <th>1</th>\n",
       "      <td>1/7/2008</td>\n",
       "      <td>1416.180054</td>\n",
       "      <td>84.769997</td>\n",
       "      <td>75.500000</td>\n",
       "      <td>15.053000</td>\n",
       "      <td>1.468299</td>\n",
       "    </tr>\n",
       "    <tr>\n",
       "      <th>2</th>\n",
       "      <td>1/8/2008</td>\n",
       "      <td>1390.189941</td>\n",
       "      <td>86.779999</td>\n",
       "      <td>76.059998</td>\n",
       "      <td>15.590000</td>\n",
       "      <td>1.557099</td>\n",
       "    </tr>\n",
       "    <tr>\n",
       "      <th>3</th>\n",
       "      <td>1/9/2008</td>\n",
       "      <td>1409.130005</td>\n",
       "      <td>86.550003</td>\n",
       "      <td>75.250000</td>\n",
       "      <td>15.520000</td>\n",
       "      <td>1.466405</td>\n",
       "    </tr>\n",
       "    <tr>\n",
       "      <th>4</th>\n",
       "      <td>1/10/2008</td>\n",
       "      <td>1420.329956</td>\n",
       "      <td>88.250000</td>\n",
       "      <td>74.019997</td>\n",
       "      <td>16.061001</td>\n",
       "      <td>1.480100</td>\n",
       "    </tr>\n",
       "  </tbody>\n",
       "</table>\n",
       "</div>"
      ],
      "text/plain": [
       "        Date          SPX        GLD        USO        SLV   EUR/USD\n",
       "0   1/4/2008  1411.630005  85.129997  77.309998  15.167000  1.475492\n",
       "1   1/7/2008  1416.180054  84.769997  75.500000  15.053000  1.468299\n",
       "2   1/8/2008  1390.189941  86.779999  76.059998  15.590000  1.557099\n",
       "3   1/9/2008  1409.130005  86.550003  75.250000  15.520000  1.466405\n",
       "4  1/10/2008  1420.329956  88.250000  74.019997  16.061001  1.480100"
      ]
     },
     "execution_count": 4,
     "metadata": {},
     "output_type": "execute_result"
    }
   ],
   "source": [
    "#print 1st 5 rows of dataframe\n",
    "gold_data.head()"
   ]
  },
  {
   "cell_type": "code",
   "execution_count": 5,
   "id": "1bc13a34-1e7b-4d77-9297-0552ed4a59fd",
   "metadata": {},
   "outputs": [
    {
     "data": {
      "text/html": [
       "<div>\n",
       "<style scoped>\n",
       "    .dataframe tbody tr th:only-of-type {\n",
       "        vertical-align: middle;\n",
       "    }\n",
       "\n",
       "    .dataframe tbody tr th {\n",
       "        vertical-align: top;\n",
       "    }\n",
       "\n",
       "    .dataframe thead th {\n",
       "        text-align: right;\n",
       "    }\n",
       "</style>\n",
       "<table border=\"1\" class=\"dataframe\">\n",
       "  <thead>\n",
       "    <tr style=\"text-align: right;\">\n",
       "      <th></th>\n",
       "      <th>Date</th>\n",
       "      <th>SPX</th>\n",
       "      <th>GLD</th>\n",
       "      <th>USO</th>\n",
       "      <th>SLV</th>\n",
       "      <th>EUR/USD</th>\n",
       "    </tr>\n",
       "  </thead>\n",
       "  <tbody>\n",
       "    <tr>\n",
       "      <th>2283</th>\n",
       "      <td>5/8/2018</td>\n",
       "      <td>2671.919922</td>\n",
       "      <td>124.589996</td>\n",
       "      <td>14.0600</td>\n",
       "      <td>15.5100</td>\n",
       "      <td>1.186789</td>\n",
       "    </tr>\n",
       "    <tr>\n",
       "      <th>2284</th>\n",
       "      <td>5/9/2018</td>\n",
       "      <td>2697.790039</td>\n",
       "      <td>124.330002</td>\n",
       "      <td>14.3700</td>\n",
       "      <td>15.5300</td>\n",
       "      <td>1.184722</td>\n",
       "    </tr>\n",
       "    <tr>\n",
       "      <th>2285</th>\n",
       "      <td>5/10/2018</td>\n",
       "      <td>2723.070068</td>\n",
       "      <td>125.180000</td>\n",
       "      <td>14.4100</td>\n",
       "      <td>15.7400</td>\n",
       "      <td>1.191753</td>\n",
       "    </tr>\n",
       "    <tr>\n",
       "      <th>2286</th>\n",
       "      <td>5/14/2018</td>\n",
       "      <td>2730.129883</td>\n",
       "      <td>124.489998</td>\n",
       "      <td>14.3800</td>\n",
       "      <td>15.5600</td>\n",
       "      <td>1.193118</td>\n",
       "    </tr>\n",
       "    <tr>\n",
       "      <th>2287</th>\n",
       "      <td>5/16/2018</td>\n",
       "      <td>2725.780029</td>\n",
       "      <td>122.543800</td>\n",
       "      <td>14.4058</td>\n",
       "      <td>15.4542</td>\n",
       "      <td>1.182033</td>\n",
       "    </tr>\n",
       "  </tbody>\n",
       "</table>\n",
       "</div>"
      ],
      "text/plain": [
       "           Date          SPX         GLD      USO      SLV   EUR/USD\n",
       "2283   5/8/2018  2671.919922  124.589996  14.0600  15.5100  1.186789\n",
       "2284   5/9/2018  2697.790039  124.330002  14.3700  15.5300  1.184722\n",
       "2285  5/10/2018  2723.070068  125.180000  14.4100  15.7400  1.191753\n",
       "2286  5/14/2018  2730.129883  124.489998  14.3800  15.5600  1.193118\n",
       "2287  5/16/2018  2725.780029  122.543800  14.4058  15.4542  1.182033"
      ]
     },
     "execution_count": 5,
     "metadata": {},
     "output_type": "execute_result"
    }
   ],
   "source": [
    "#last 5 data info\n",
    "gold_data.tail()"
   ]
  },
  {
   "cell_type": "code",
   "execution_count": 6,
   "id": "dcb3a531-155b-4b9a-af43-3c56b1fda608",
   "metadata": {},
   "outputs": [
    {
     "data": {
      "text/plain": [
       "(2288, 6)"
      ]
     },
     "execution_count": 6,
     "metadata": {},
     "output_type": "execute_result"
    }
   ],
   "source": [
    "#no of rows and cols\n",
    "gold_data.shape"
   ]
  },
  {
   "cell_type": "code",
   "execution_count": 7,
   "id": "499d1706-71bd-4a66-9b6b-2a9fedb40316",
   "metadata": {},
   "outputs": [
    {
     "name": "stdout",
     "output_type": "stream",
     "text": [
      "<class 'pandas.core.frame.DataFrame'>\n",
      "RangeIndex: 2288 entries, 0 to 2287\n",
      "Data columns (total 6 columns):\n",
      " #   Column   Non-Null Count  Dtype  \n",
      "---  ------   --------------  -----  \n",
      " 0   Date     2288 non-null   object \n",
      " 1   SPX      2288 non-null   float64\n",
      " 2   GLD      2288 non-null   float64\n",
      " 3   USO      2288 non-null   float64\n",
      " 4   SLV      2288 non-null   float64\n",
      " 5   EUR/USD  2288 non-null   float64\n",
      "dtypes: float64(5), object(1)\n",
      "memory usage: 107.4+ KB\n"
     ]
    }
   ],
   "source": [
    "#getting basic info\n",
    "gold_data.info()"
   ]
  },
  {
   "cell_type": "code",
   "execution_count": 8,
   "id": "ec36b54a-2bd4-4d9d-8d86-811ffc2efbdd",
   "metadata": {},
   "outputs": [
    {
     "data": {
      "text/plain": [
       "Date       0\n",
       "SPX        0\n",
       "GLD        0\n",
       "USO        0\n",
       "SLV        0\n",
       "EUR/USD    0\n",
       "dtype: int64"
      ]
     },
     "execution_count": 8,
     "metadata": {},
     "output_type": "execute_result"
    }
   ],
   "source": [
    "#checking no of missing values\n",
    "gold_data.isnull().sum()"
   ]
  },
  {
   "cell_type": "code",
   "execution_count": 9,
   "id": "398ee9d8-ff5e-467c-baf3-0e99ddafdf49",
   "metadata": {},
   "outputs": [
    {
     "data": {
      "text/html": [
       "<div>\n",
       "<style scoped>\n",
       "    .dataframe tbody tr th:only-of-type {\n",
       "        vertical-align: middle;\n",
       "    }\n",
       "\n",
       "    .dataframe tbody tr th {\n",
       "        vertical-align: top;\n",
       "    }\n",
       "\n",
       "    .dataframe thead th {\n",
       "        text-align: right;\n",
       "    }\n",
       "</style>\n",
       "<table border=\"1\" class=\"dataframe\">\n",
       "  <thead>\n",
       "    <tr style=\"text-align: right;\">\n",
       "      <th></th>\n",
       "      <th>SPX</th>\n",
       "      <th>GLD</th>\n",
       "      <th>USO</th>\n",
       "      <th>SLV</th>\n",
       "      <th>EUR/USD</th>\n",
       "    </tr>\n",
       "  </thead>\n",
       "  <tbody>\n",
       "    <tr>\n",
       "      <th>count</th>\n",
       "      <td>2288.000000</td>\n",
       "      <td>2288.000000</td>\n",
       "      <td>2288.000000</td>\n",
       "      <td>2288.000000</td>\n",
       "      <td>2288.000000</td>\n",
       "    </tr>\n",
       "    <tr>\n",
       "      <th>mean</th>\n",
       "      <td>1654.496857</td>\n",
       "      <td>122.765670</td>\n",
       "      <td>31.801506</td>\n",
       "      <td>20.089238</td>\n",
       "      <td>1.283487</td>\n",
       "    </tr>\n",
       "    <tr>\n",
       "      <th>std</th>\n",
       "      <td>519.302311</td>\n",
       "      <td>23.267061</td>\n",
       "      <td>19.483381</td>\n",
       "      <td>7.094214</td>\n",
       "      <td>0.131485</td>\n",
       "    </tr>\n",
       "    <tr>\n",
       "      <th>min</th>\n",
       "      <td>676.530029</td>\n",
       "      <td>70.000000</td>\n",
       "      <td>7.960000</td>\n",
       "      <td>8.850000</td>\n",
       "      <td>1.039047</td>\n",
       "    </tr>\n",
       "    <tr>\n",
       "      <th>25%</th>\n",
       "      <td>1239.249969</td>\n",
       "      <td>109.755001</td>\n",
       "      <td>14.377500</td>\n",
       "      <td>15.570000</td>\n",
       "      <td>1.170642</td>\n",
       "    </tr>\n",
       "    <tr>\n",
       "      <th>50%</th>\n",
       "      <td>1551.849976</td>\n",
       "      <td>120.584999</td>\n",
       "      <td>33.865000</td>\n",
       "      <td>17.270000</td>\n",
       "      <td>1.303271</td>\n",
       "    </tr>\n",
       "    <tr>\n",
       "      <th>75%</th>\n",
       "      <td>2073.372558</td>\n",
       "      <td>132.855003</td>\n",
       "      <td>37.820000</td>\n",
       "      <td>22.917499</td>\n",
       "      <td>1.369690</td>\n",
       "    </tr>\n",
       "    <tr>\n",
       "      <th>max</th>\n",
       "      <td>2872.870117</td>\n",
       "      <td>184.589996</td>\n",
       "      <td>117.480003</td>\n",
       "      <td>47.259998</td>\n",
       "      <td>1.598798</td>\n",
       "    </tr>\n",
       "  </tbody>\n",
       "</table>\n",
       "</div>"
      ],
      "text/plain": [
       "               SPX          GLD          USO          SLV      EUR/USD\n",
       "count  2288.000000  2288.000000  2288.000000  2288.000000  2288.000000\n",
       "mean   1654.496857   122.765670    31.801506    20.089238     1.283487\n",
       "std     519.302311    23.267061    19.483381     7.094214     0.131485\n",
       "min     676.530029    70.000000     7.960000     8.850000     1.039047\n",
       "25%    1239.249969   109.755001    14.377500    15.570000     1.170642\n",
       "50%    1551.849976   120.584999    33.865000    17.270000     1.303271\n",
       "75%    2073.372558   132.855003    37.820000    22.917499     1.369690\n",
       "max    2872.870117   184.589996   117.480003    47.259998     1.598798"
      ]
     },
     "execution_count": 9,
     "metadata": {},
     "output_type": "execute_result"
    }
   ],
   "source": [
    "#getting statistical measures of data\n",
    "gold_data.describe()"
   ]
  },
  {
   "cell_type": "code",
   "execution_count": 10,
   "id": "e03530b1-c660-464e-ad7f-12d5e1807d49",
   "metadata": {},
   "outputs": [],
   "source": [
    "#finding Corelation between datasets\n",
    "gold_data['Date'] = pd.to_datetime(gold_data['Date'])  # Convert the column to a datetime object.\n",
    "\n",
    "corelation = gold_data.corr()"
   ]
  },
  {
   "cell_type": "code",
   "execution_count": 11,
   "id": "30491e6a-86de-46ac-961f-316867ba4595",
   "metadata": {},
   "outputs": [
    {
     "data": {
      "text/plain": [
       "<AxesSubplot:>"
      ]
     },
     "execution_count": 11,
     "metadata": {},
     "output_type": "execute_result"
    },
    {
     "data": {
      "image/png": "[encoded data removed]",
      "text/plain": [
       "<Figure size 576x576 with 2 Axes>"
      ]
     },
     "metadata": {
      "needs_background": "light"
     },
     "output_type": "display_data"
    }
   ],
   "source": [
    "#constructing a heatmap for understanding corelation\n",
    "plt.figure(figsize=(8,8))\n",
    "sns.heatmap(corelation,cbar=True,square=True,fmt='.1f',annot=True,annot_kws={'size':8},cmap='Blues')"
   ]
  },
  {
   "cell_type": "code",
   "execution_count": 13,
   "id": "07abd8d5-5518-4f4a-9880-9afae077216b",
   "metadata": {},
   "outputs": [
    {
     "name": "stdout",
     "output_type": "stream",
     "text": [
      "Date       0.207173\n",
      "SPX        0.048842\n",
      "GLD        1.000000\n",
      "USO       -0.183664\n",
      "SLV        0.866830\n",
      "EUR/USD   -0.022392\n",
      "Name: GLD, dtype: float64\n"
     ]
    }
   ],
   "source": [
    "#corelation values \n",
    "print(corelation['GLD'])"
   ]
  },
  {
   "cell_type": "code",
   "execution_count": 18,
   "id": "9ee2642d-58b1-4b98-826a-9f985dd284b4",
   "metadata": {},
   "outputs": [
    {
     "data": {
      "text/plain": [
       "(array([ 55., 230., 155., 383., 738., 257.,  73., 209., 161.,  27.]),\n",
       " array([ 70.       ,  81.4589996,  92.9179992, 104.3769988, 115.8359984,\n",
       "        127.294998 , 138.7539976, 150.2129972, 161.6719968, 173.1309964,\n",
       "        184.589996 ]),\n",
       " <BarContainer object of 10 artists>)"
      ]
     },
     "execution_count": 18,
     "metadata": {},
     "output_type": "execute_result"
    },
    {
     "data": {
      "image/png": "[encoded data removed]",
      "text/plain": [
       "<Figure size 432x288 with 1 Axes>"
      ]
     },
     "metadata": {
      "needs_background": "light"
     },
     "output_type": "display_data"
    }
   ],
   "source": [
    "#checking the distribution of the gold price \n",
    "plt.hist(gold_data['GLD'])"
   ]
  },
  {
   "cell_type": "code",
   "execution_count": 20,
   "id": "5daf47e9-e35f-4c16-b242-181aa05bc085",
   "metadata": {},
   "outputs": [],
   "source": [
    "#spliting the Features and Target"
   ]
  },
  {
   "cell_type": "code",
   "execution_count": 21,
   "id": "9c066545-3779-42f6-bff8-03e637214f11",
   "metadata": {},
   "outputs": [],
   "source": [
    "x = gold_data.drop(['Date','GLD'],axis = 1)\n",
    "y = gold_data['GLD']"
   ]
  },
  {
   "cell_type": "code",
   "execution_count": 24,
   "id": "2df7104d-efa1-44e7-8169-3f4f5cb61da6",
   "metadata": {},
   "outputs": [
    {
     "name": "stdout",
     "output_type": "stream",
     "text": [
      "0        85.129997\n",
      "1        84.769997\n",
      "2        86.779999\n",
      "3        86.550003\n",
      "4        88.250000\n",
      "           ...    \n",
      "2283    124.589996\n",
      "2284    124.330002\n",
      "2285    125.180000\n",
      "2286    124.489998\n",
      "2287    122.543800\n",
      "Name: GLD, Length: 2288, dtype: float64\n"
     ]
    }
   ],
   "source": [
    "print(y)"
   ]
  },
  {
   "cell_type": "code",
   "execution_count": 25,
   "id": "dad825b4-80b3-41ea-9bf7-36246fad6dec",
   "metadata": {},
   "outputs": [],
   "source": [
    "#spliting into tranning and testing data \n",
    "X_train , X_test , Y_train , Y_test = train_test_split(x,y,test_size=0.2,random_state=2)"
   ]
  },
  {
   "cell_type": "code",
   "execution_count": 27,
   "id": "de83f63b-fcd9-4750-ac64-aaff978dcd2e",
   "metadata": {},
   "outputs": [],
   "source": [
    "#model Tranning\n",
    "regressor = RandomForestRegressor(n_estimators=100)"
   ]
  },
  {
   "cell_type": "code",
   "execution_count": 28,
   "id": "e1157874-3edb-4351-bf97-d9ed92d47656",
   "metadata": {},
   "outputs": [
    {
     "data": {
      "text/html": [
       "<style>#sk-container-id-1 {color: black;}#sk-container-id-1 pre{padding: 0;}#sk-container-id-1 div.sk-toggleable {background-color: white;}#sk-container-id-1 label.sk-toggleable__label {cursor: pointer;display: block;width: 100%;margin-bottom: 0;padding: 0.3em;box-sizing: border-box;text-align: center;}#sk-container-id-1 label.sk-toggleable__label-arrow:before {content: \"▸\";float: left;margin-right: 0.25em;color: #696969;}#sk-container-id-1 label.sk-toggleable__label-arrow:hover:before {color: black;}#sk-container-id-1 div.sk-estimator:hover label.sk-toggleable__label-arrow:before {color: black;}#sk-container-id-1 div.sk-toggleable__content {max-height: 0;max-width: 0;overflow: hidden;text-align: left;background-color: #f0f8ff;}#sk-container-id-1 div.sk-toggleable__content pre {margin: 0.2em;color: black;border-radius: 0.25em;background-color: #f0f8ff;}#sk-container-id-1 input.sk-toggleable__control:checked~div.sk-toggleable__content {max-height: 200px;max-width: 100%;overflow: auto;}#sk-container-id-1 input.sk-toggleable__control:checked~label.sk-toggleable__label-arrow:before {content: \"▾\";}#sk-container-id-1 div.sk-estimator input.sk-toggleable__control:checked~label.sk-toggleable__label {background-color: #d4ebff;}#sk-container-id-1 div.sk-label input.sk-toggleable__control:checked~label.sk-toggleable__label {background-color: #d4ebff;}#sk-container-id-1 input.sk-hidden--visually {border: 0;clip: rect(1px 1px 1px 1px);clip: rect(1px, 1px, 1px, 1px);height: 1px;margin: -1px;overflow: hidden;padding: 0;position: absolute;width: 1px;}#sk-container-id-1 div.sk-estimator {font-family: monospace;background-color: #f0f8ff;border: 1px dotted black;border-radius: 0.25em;box-sizing: border-box;margin-bottom: 0.5em;}#sk-container-id-1 div.sk-estimator:hover {background-color: #d4ebff;}#sk-container-id-1 div.sk-parallel-item::after {content: \"\";width: 100%;border-bottom: 1px solid gray;flex-grow: 1;}#sk-container-id-1 div.sk-label:hover label.sk-toggleable__label {background-color: #d4ebff;}#sk-container-id-1 div.sk-serial::before {content: \"\";position: absolute;border-left: 1px solid gray;box-sizing: border-box;top: 0;bottom: 0;left: 50%;z-index: 0;}#sk-container-id-1 div.sk-serial {display: flex;flex-direction: column;align-items: center;background-color: white;padding-right: 0.2em;padding-left: 0.2em;position: relative;}#sk-container-id-1 div.sk-item {position: relative;z-index: 1;}#sk-container-id-1 div.sk-parallel {display: flex;align-items: stretch;justify-content: center;background-color: white;position: relative;}#sk-container-id-1 div.sk-item::before, #sk-container-id-1 div.sk-parallel-item::before {content: \"\";position: absolute;border-left: 1px solid gray;box-sizing: border-box;top: 0;bottom: 0;left: 50%;z-index: -1;}#sk-container-id-1 div.sk-parallel-item {display: flex;flex-direction: column;z-index: 1;position: relative;background-color: white;}#sk-container-id-1 div.sk-parallel-item:first-child::after {align-self: flex-end;width: 50%;}#sk-container-id-1 div.sk-parallel-item:last-child::after {align-self: flex-start;width: 50%;}#sk-container-id-1 div.sk-parallel-item:only-child::after {width: 0;}#sk-container-id-1 div.sk-dashed-wrapped {border: 1px dashed gray;margin: 0 0.4em 0.5em 0.4em;box-sizing: border-box;padding-bottom: 0.4em;background-color: white;}#sk-container-id-1 div.sk-label label {font-family: monospace;font-weight: bold;display: inline-block;line-height: 1.2em;}#sk-container-id-1 div.sk-label-container {text-align: center;}#sk-container-id-1 div.sk-container {/* jupyter's `normalize.less` sets `[hidden] { display: none; }` but bootstrap.min.css set `[hidden] { display: none !important; }` so we also need the `!important` here to be able to override the default hidden behavior on the sphinx rendered scikit-learn.org. See: https://github.com/scikit-learn/scikit-learn/issues/21755 */display: inline-block !important;position: relative;}#sk-container-id-1 div.sk-text-repr-fallback {display: none;}</style><div id=\"sk-container-id-1\" class=\"sk-top-container\"><div class=\"sk-text-repr-fallback\"><pre>RandomForestRegressor()</pre><b>In a Jupyter environment, please rerun this cell to show the HTML representation or trust the notebook. <br />On GitHub, the HTML representation is unable to render, please try loading this page with nbviewer.org.</b></div><div class=\"sk-container\" hidden><div class=\"sk-item\"><div class=\"sk-estimator sk-toggleable\"><input class=\"sk-toggleable__control sk-hidden--visually\" id=\"sk-estimator-id-1\" type=\"checkbox\" checked><label for=\"sk-estimator-id-1\" class=\"sk-toggleable__label sk-toggleable__label-arrow\">RandomForestRegressor</label><div class=\"sk-toggleable__content\"><pre>RandomForestRegressor()</pre></div></div></div></div></div>"
      ],
      "text/plain": [
       "RandomForestRegressor()"
      ]
     },
     "execution_count": 28,
     "metadata": {},
     "output_type": "execute_result"
    }
   ],
   "source": [
    "#tranning the model\n",
    "regressor.fit(X_train,Y_train)"
   ]
  },
  {
   "cell_type": "code",
   "execution_count": 30,
   "id": "98f145b7-0b29-489f-9ae3-7df89d1f1a9b",
   "metadata": {},
   "outputs": [],
   "source": [
    "#model Evaluation \n",
    "#prediction on test data \n",
    "test_data_prediction = regressor.predict(X_test)"
   ]
  },
  {
   "cell_type": "code",
   "execution_count": 31,
   "id": "723bbd1f-fda7-4f6f-923c-ee09f3191daa",
   "metadata": {},
   "outputs": [
    {
     "name": "stdout",
     "output_type": "stream",
     "text": [
      "[168.13150045  82.30220056 115.30929992 118.72209899 128.86240103\n",
      " 152.81370188 151.68250166 126.14350078 108.5934004  125.96610088\n",
      " 118.85100051 172.8389987  141.17970176 167.88659587 117.06160165\n",
      " 116.68700061 140.05459859 171.80380012 159.71889968 169.86770086\n",
      " 154.57659953 125.08419944 175.48309882 155.03750081 128.60800145\n",
      "  94.88490109  83.41469945 119.14820078 117.33850084 168.87719555\n",
      "  88.07299869 125.39120014  92.49760021 125.6388011  120.89579887\n",
      " 137.56720045 114.7937998  110.70519905 152.3228997  115.73660058\n",
      " 106.17030028  87.22359854 112.48769999 116.12619938 159.23550056\n",
      " 119.11479933 104.09909986 106.99049965  89.83519911 119.58889974\n",
      "  74.90280047 114.27339942 120.91559938 119.81930003 125.20940015\n",
      " 121.65450008 153.50609808 169.62879947 147.59309852  86.37339865\n",
      "  96.21310004  86.12290098  87.81279812 118.8633011  126.38820063\n",
      " 130.06839808 167.96209915 113.13140134 117.76559877 106.38729977\n",
      " 160.9015995  142.84089974 131.32860475 121.07100049 122.52649959\n",
      " 119.56439976 104.17979818 112.23509938 107.59220141 127.85290196\n",
      " 114.07040074 109.21500004 116.74520041 119.05280099  89.73639882\n",
      "  89.67829983 146.41089919 127.58919791 102.21219967 111.88009945\n",
      " 109.32489973  80.43909977 168.64009992 113.73559927 121.75549889\n",
      " 101.99129949 156.25230009  92.24239925 134.01049857 159.79230193\n",
      " 112.97579964 114.67739997 132.07360224 113.2625995  118.79809937\n",
      "  91.94910081 113.88089867 169.98580089 165.76959973 119.99500067\n",
      " 108.4822987   75.25180006 113.09579896 117.75279954 104.58610001\n",
      " 118.49549943 156.66600018 161.79239905 127.45299645 134.44330003\n",
      " 105.2147011  116.45239963 119.55570037 112.7933016  113.91460042\n",
      " 160.69560226  99.37329927 142.51590049 126.2249997  168.62750224\n",
      " 127.77850023 127.07739844 127.43290191 119.13180086 112.62940028\n",
      " 123.32969809 102.72899816  91.35490049 118.63240061 103.95339987\n",
      " 109.07700104 113.97879946 117.47380131  99.88550007 121.68170129\n",
      " 161.23220182  87.43700059 104.24090007 116.13800033 127.68690006\n",
      " 123.88910035  80.89249902 118.78719945 160.05250044  89.81679998\n",
      " 109.99180126 121.10689922 173.74759839 103.37589892 104.86109852\n",
      " 121.87210121 159.86249953  87.15509922  93.99069976 111.90070068\n",
      " 173.99389863 115.25700009 119.17250263  91.98559887 125.84279994\n",
      " 167.6491016  125.16670091 126.70030076  89.70229965 149.63229814\n",
      " 119.10170083  90.84950011 109.84259986 114.85969974 118.15699962\n",
      "  85.51319965  94.32220081 114.61259961 115.29099933 120.5545017\n",
      " 126.97990096 122.21709929 154.64840124 168.68229992 124.49900146\n",
      " 120.20410161 152.82039949 119.92139981 167.88169962 101.71870057\n",
      " 104.92750059 147.97119779 119.25610101 124.91740097 143.10880044\n",
      " 117.25189886 113.17569969 109.64090012 106.69810038 134.56550035\n",
      " 115.23470061 125.88080046 114.99909921 105.41640178  99.58990045\n",
      " 117.09100067  90.64449983  91.18770067 151.50509801 128.89079885\n",
      " 151.66600209 114.00150171 139.2702014   90.31309994 116.83670054\n",
      " 113.56889873 114.6591011  122.10289977 165.60630156  95.75550018\n",
      " 132.36539948 121.63179966 120.85380036 102.53860016 145.7850012\n",
      " 121.90899946 116.81700063 117.95139858 125.13409995 122.96449944\n",
      " 115.74589931 121.28409962  87.57999897 132.27750014 139.23850104\n",
      "  91.75410037 150.10280147 158.4588008  125.51680029 170.19330245\n",
      " 107.83619799 122.11150037 104.00079875  95.51350064 102.99719989\n",
      " 108.48439813 149.92930119 121.60370111 127.72350128 133.11180122\n",
      " 158.55030043  90.55380005 173.55239871 114.91990022 126.90219872\n",
      "  87.60709992 125.04269884 149.06309908  92.55290027 115.51310035\n",
      " 108.79469965  88.54569951 141.75230161 151.95300002 144.17670102\n",
      "  72.99450216 154.46940221 125.87119833 126.77379989 116.95020037\n",
      " 109.55879822 154.61979889 115.25690068 116.95610033 128.54830044\n",
      " 154.80100051 107.33300089 155.8024038   93.83269951 104.08619873\n",
      " 123.93960005  88.0102995   91.92459877 125.84970041 127.67679922\n",
      " 114.39589957 120.27239998 120.53130002 127.36400044 120.28170121\n",
      " 138.03280118  97.24700066 119.43650062 113.70940135  93.42850041\n",
      " 103.80830183  88.49089971 111.92619922  90.54640085  92.7570994\n",
      " 131.89690331 163.2052003   89.61220016 125.42169982 132.98480253\n",
      " 123.58039927 132.16200111 128.09290088  90.28049988 132.45490215\n",
      " 120.73980028 111.51099983 171.48630055 115.88519916  86.36769896\n",
      " 119.02459991  89.96250153 160.6258027  116.43720022 126.42819892\n",
      " 160.73499925 118.85360009 108.00789751 108.94470108 121.77570091\n",
      "  79.95559887 112.72420006 106.73120003 114.78490036  92.33459888\n",
      " 135.33830074 120.27140146 119.66249979 153.73550093 162.92270026\n",
      " 127.08010085 139.67590012 130.30959977 160.93760101 117.71970101\n",
      " 156.85249723 115.72750031 116.34920031 153.34770097 113.9460004\n",
      " 126.02590178 149.25309799 121.28410006 123.23240028 151.6800009\n",
      " 152.74910213 135.03810156 122.9350001  121.44729994 124.0028004\n",
      "  91.43030053 116.21490016 152.97699798 119.59190111 128.05920095\n",
      " 159.50999973 119.30190037 165.58120104 136.53349935 124.47640005\n",
      " 153.69950056 166.48810069 110.88079907 113.23740034 158.77699972\n",
      "  83.6779991  126.55230055 125.45010031 128.66229861 109.22989991\n",
      " 117.83060042  90.61849972 156.53060258  96.14710093 135.23569905\n",
      "  89.20369953 109.13439974 109.54649919 121.37109997 103.47149936\n",
      "  91.52549907 125.26140115 162.81879942 119.82089893 163.47850242\n",
      " 124.89099936 111.83449959 127.63579988  95.6000009   90.90809948\n",
      " 105.8810996  120.92849956  75.14029974 101.66089935 155.65260127\n",
      " 117.81200005 119.88500057 117.21450059 126.45089945 120.10220156\n",
      " 121.60220017 117.47880083 107.49549868 149.4050981  124.70729931\n",
      " 102.68619955  73.11680149 127.78440092 151.63530101 120.46410057\n",
      " 117.44270022  87.83389967 102.78029796 107.95680064 118.05369949\n",
      "  73.14520217 135.54760149 120.66959918 108.01940095  85.91330038\n",
      " 115.41610074 171.60450002 116.92500046 162.12479947 113.34439933\n",
      " 122.50040048 125.20759963  96.9473997  123.84919988 126.24620014\n",
      " 127.92629975  92.72500118 151.76450149 121.97370037 147.11369903\n",
      " 158.36760095 112.91969995 114.1567008  147.96429776 125.90729921\n",
      " 165.60030112 132.33369943 122.51469927 163.93730096 112.84949993\n",
      " 112.06580173 150.48299969 104.89520077]\n"
     ]
    }
   ],
   "source": [
    "print(test_data_prediction)"
   ]
  },
  {
   "cell_type": "code",
   "execution_count": 32,
   "id": "57ddff98-7d04-482a-a888-868287915f02",
   "metadata": {},
   "outputs": [
    {
     "name": "stdout",
     "output_type": "stream",
     "text": [
      "R squared error is  0.9882927221792085\n"
     ]
    }
   ],
   "source": [
    "# R squared error\n",
    "error_score = metrics.r2_score(Y_test,test_data_prediction)\n",
    "print(\"R squared error is \" , error_score)"
   ]
  },
  {
   "cell_type": "code",
   "execution_count": 33,
   "id": "696d637e-b593-489d-afb6-452387648271",
   "metadata": {},
   "outputs": [],
   "source": [
    "#comparinng actual values with the predicted values\n",
    "y_tes = list(Y_test)"
   ]
  },
  {
   "cell_type": "code",
   "execution_count": 40,
   "id": "2d2cad32-7643-4e93-9bb6-431a107086de",
   "metadata": {},
   "outputs": [
    {
     "data": {
      "image/png": "[encoded data removed]",
      "text/plain": [
       "<Figure size 432x288 with 1 Axes>"
      ]
     },
     "metadata": {
      "needs_background": "light"
     },
     "output_type": "display_data"
    }
   ],
   "source": [
    "plt.plot(y_tes,color='blue',label='Actual value')\n",
    "plt.plot(test_data_prediction,color='red',label='Predicted Price')\n",
    "plt.xlabel(\"Number of values\")\n",
    "plt.ylabel(\"GLD Price\")\n",
    "plt.legend()\n",
    "plt.title(\"Actual Prics vs Predicted Price\")\n",
    "plt.show()"
   ]
  },
  {
   "cell_type": "code",
   "execution_count": null,
   "id": "227b260b-1898-4f08-82e5-9940ddf11010",
   "metadata": {},
   "outputs": [],
   "source": []
  }
 ],
 "metadata": {
  "kernelspec": {
   "display_name": "Python 3 (ipykernel)",
   "language": "python",
   "name": "python3"
  },
  "language_info": {
   "codemirror_mode": {
    "name": "ipython",
    "version": 3
   },
   "file_extension": ".py",
   "mimetype": "text/x-python",
   "name": "python",
   "nbconvert_exporter": "python",
   "pygments_lexer": "ipython3",
   "version": "3.10.12"
  }
 },
 "nbformat": 4,
 "nbformat_minor": 5
}
